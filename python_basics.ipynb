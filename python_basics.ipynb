{
  "nbformat": 4,
  "nbformat_minor": 0,
  "metadata": {
    "kernelspec": {
      "display_name": "Python 3",
      "language": "python",
      "name": "python3"
    },
    "language_info": {
      "codemirror_mode": {
        "name": "ipython",
        "version": 3
      },
      "file_extension": ".py",
      "mimetype": "text/x-python",
      "name": "python",
      "nbconvert_exporter": "python",
      "pygments_lexer": "ipython3",
      "version": "3.7.7"
    },
    "colab": {
      "name": "python_basics.ipynb",
      "provenance": [],
      "include_colab_link": true
    }
  },
  "cells": [
    {
      "cell_type": "markdown",
      "metadata": {
        "id": "view-in-github",
        "colab_type": "text"
      },
      "source": [
        "<a href=\"https://colab.research.google.com/github/vedmakoff/pyda_homeworks/blob/master/python_basics.ipynb\" target=\"_parent\"><img src=\"https://colab.research.google.com/assets/colab-badge.svg\" alt=\"Open In Colab\"/></a>"
      ]
    },
    {
      "cell_type": "markdown",
      "metadata": {
        "id": "UtV3kjje1LnL",
        "colab_type": "text"
      },
      "source": [
        "# Домашнее задание к лекции \"Основы Python\""
      ]
    },
    {
      "cell_type": "markdown",
      "metadata": {
        "id": "J4ekd9Jt1LnU",
        "colab_type": "text"
      },
      "source": [
        "## Задание 1"
      ]
    },
    {
      "cell_type": "markdown",
      "metadata": {
        "id": "u3qkr1p51Lnh",
        "colab_type": "text"
      },
      "source": [
        "Даны 2 переменных, в которых хранятся строки произвольной длины: *phrase_1* и *phrase_2*.  \n",
        "Напишите код, который проверяет какая из этих строк длиннее."
      ]
    },
    {
      "cell_type": "markdown",
      "metadata": {
        "id": "sx6uHBJX1Lnl",
        "colab_type": "text"
      },
      "source": [
        "Примеры работы программы:  \n",
        "1.  \n",
        "\n",
        "```\n",
        "phrase_1 = 'Насколько проще было бы писать программы, если бы не заказчики'\n",
        "phrase_2 = '640Кб должно хватить для любых задач. Билл Гейтс (по легенде)'\n",
        "\n",
        "```\n",
        "\n",
        "Результат:  \n",
        "`Фраза 1 длиннее фразы 2`\n",
        "2.     \n",
        "\n",
        "```\n",
        "phrase_1 = '640Кб должно хватить для любых задач. Билл Гейтс (по легенде)'\n",
        "phrase_2 = 'Насколько проще было бы писать программы, если бы не заказчики'\n",
        "```\n",
        "\n",
        "Результат:  \n",
        "`Фраза 2 длиннее фразы 1`\n",
        "3.     \n",
        "\n",
        "```\n",
        "phrase_1 = 'Насколько проще было бы писать программы, если бы не заказчики'\n",
        "phrase_2 = 'Насколько проще было бы писать программы, если бы не заказчики'\n",
        "```\n",
        "\n",
        "Результат:  \n",
        "`Фразы равной длины`"
      ]
    },
    {
      "cell_type": "code",
      "metadata": {
        "id": "Kx1bLb482iM8",
        "colab_type": "code",
        "colab": {
          "base_uri": "https://localhost:8080/",
          "height": 34
        },
        "outputId": "fe3e5840-5c2e-4547-9fa7-ec4ea30ec3e0"
      },
      "source": [
        "phrase_1 = 'Насколько проще было бы писать программы, если бы не заказчики'\n",
        "phrase_2 = '640Кб должно хватить для любых задач. Билл Гейтс (по легенде)'\n",
        "if phrase_1 > phrase_2:\n",
        "  print('фраза 1 длиннее фразы 2')\n",
        "elif phrase_2 > phrase_1:\n",
        "  print('фраза 2 длиннее фразы 1')\n",
        "elif phrase_1 == phrase_2:\n",
        "  print('фраза 1 равна фразе 2')"
      ],
      "execution_count": 9,
      "outputs": [
        {
          "output_type": "stream",
          "text": [
            "фраза 1 длиннее фразы 2\n"
          ],
          "name": "stdout"
        }
      ]
    },
    {
      "cell_type": "markdown",
      "metadata": {
        "id": "2x_R0U4C1Lnn",
        "colab_type": "text"
      },
      "source": [
        "## Задание 2"
      ]
    },
    {
      "cell_type": "markdown",
      "metadata": {
        "id": "EzjMOfRF1Lnr",
        "colab_type": "text"
      },
      "source": [
        "Дана переменная, в которой хранится четырехзначное число (год). Необходимо написать программу, которая выведет, является ли данный год високосным или обычным.\n",
        "\n",
        "Пример работы программы:\n",
        "1.  \n",
        "\n",
        "```\n",
        "year = 2020\n",
        "```\n",
        "Результат:  \n",
        "`Високосный год` \n",
        "\n",
        "2.  \n",
        "\n",
        "```\n",
        "year = 2019\n",
        "```\n",
        "Результат:  \n",
        "`Обычный год` "
      ]
    },
    {
      "cell_type": "code",
      "metadata": {
        "id": "KkbD-Osq561m",
        "colab_type": "code",
        "colab": {
          "base_uri": "https://localhost:8080/",
          "height": 34
        },
        "outputId": "496b12b0-33c5-46c2-9392-04d0a4e9a1e6"
      },
      "source": [
        "year = 2020\n",
        "if year % 4 == 0:\n",
        "  print('Високосный год')\n",
        "else: print('обычный год')"
      ],
      "execution_count": 11,
      "outputs": [
        {
          "output_type": "stream",
          "text": [
            "Високосный год\n"
          ],
          "name": "stdout"
        }
      ]
    },
    {
      "cell_type": "markdown",
      "metadata": {
        "id": "zv7T08g_1Lns",
        "colab_type": "text"
      },
      "source": [
        "## Задание 3"
      ]
    },
    {
      "cell_type": "markdown",
      "metadata": {
        "id": "uTlQeNU41Los",
        "colab_type": "text"
      },
      "source": [
        "Необходимо написать программу, которая будет запрашивать у пользователя месяц и дату рождения и выводить соответствующий знак зодиака.\n",
        "\n",
        "Пример работы программы:  \n",
        "1.  \n",
        "\n",
        "```\n",
        "Введите день:\n",
        "30\n",
        "\n",
        "Введите месяц:\n",
        "Август\n",
        "```\n",
        "Результат:  \n",
        "`Ваш знак зодиака: Дева` \n",
        "\n",
        "2.  \n",
        "\n",
        "```\n",
        "Введите день:\n",
        "29\n",
        "\n",
        "Введите месяц:\n",
        "Октябрь\n",
        "```\n",
        "Результат:  \n",
        "`Ваш знак зодиака: Скорпион` \n"
      ]
    },
    {
      "cell_type": "code",
      "metadata": {
        "id": "hzcqtzws_wYR",
        "colab_type": "code",
        "colab": {
          "base_uri": "https://localhost:8080/",
          "height": 67
        },
        "outputId": "feafdc5f-39df-47c9-df10-48f556e70027"
      },
      "source": [
        "day = int(input('Введите день:'))\n",
        "month = str(input('Введите месяц:'))\n",
        "if (month == 'март' and day >= 21) or (month == 'апрель' and day < 21):\n",
        "  print('Ваш знак зодиака: Овен')\n",
        "elif (month == 'апрель' and day >= 21) or (month == 'май' and day < 21):\n",
        "  print('Ваш знак зодиака: Телец')\n",
        "elif (month == 'май' and day >= 21) or (month == 'июнь' and day < 22):\n",
        "  print('Ваш знак зодиака: Близнецы')\n",
        "elif (month == 'июнь' and day >= 22) or (month == 'июль' and day < 23):\n",
        "  print('Ваш знак зодиака: Рак')\n",
        "elif (month == 'июль' and day >= 23) or (month == 'август' and day < 24):\n",
        "  print('Ваш знак зодиака: Лев')\n",
        "elif (month == 'август' and day >= 24) or (month == 'сентябрь' and day < 23):\n",
        "  print('Ваш знак зодиака: Дева')\n",
        "elif (month == 'сентябрь' and day >= 23) or (month == 'октябрь' and day < 24):\n",
        "  print('Ваш знак зодиака: Весы')\n",
        "elif (month == 'октябрь' and day >= 24) or (month == 'ноябрь' and day < 23):\n",
        "  print('Ваш знак зодиака: Скорпион')\n",
        "elif (month == 'ноябрь' and day >= 23) or (month == 'август' and day < 22):\n",
        "  print('Ваш знак зодиака: Стрелец')\n",
        "elif (month == 'декабрь' and day >= 22) or (month == 'январь' and day < 20):\n",
        "  print('Ваш знак зодиака: Козерог')\n",
        "elif (month == 'январь' and day >= 20) or (month == 'февраль' and day < 19):\n",
        "  print('Ваш знак зодиака: Водолей')\n",
        "elif (month == 'февраль' and day >= 19) or (month == 'март' and day < 21):\n",
        "  print('Ваш знак зодиака: Рыбы')\n"
      ],
      "execution_count": 18,
      "outputs": [
        {
          "output_type": "stream",
          "text": [
            "Введите день:25\n",
            "Введите месяц:август\n",
            "Ваш знак зодиака: Дева\n"
          ],
          "name": "stdout"
        }
      ]
    },
    {
      "cell_type": "markdown",
      "metadata": {
        "id": "d-7xv8Gn1Lot",
        "colab_type": "text"
      },
      "source": [
        "## Задание 4"
      ]
    },
    {
      "cell_type": "markdown",
      "metadata": {
        "id": "7qivyGQZ1Lov",
        "colab_type": "text"
      },
      "source": [
        "Вам нужно написать программу для подбора упаковок по размерам товара. Размеры хранятся в переменных (в сантиметрах):\n",
        "\n",
        "```\n",
        "width = 10\n",
        "length = 205\n",
        "height = 5\n",
        "```\n",
        "\n",
        "Используйте следующие правила:\n",
        "- если каждое из трех измерений менее 15 сантиметров, то выведите на экран \"Коробка №1\";\n",
        "- если хотя бы одно из измерений больше 15 сантиметров, но менее 50 сантиметров, то выводите \"Коробка №2\";\n",
        "- если длина товара больше 2 метров, то выводите \"Упаковка для лыж\";\n",
        "- во всех остальных случаях выводите \"Стандартная коробка №3\".\n"
      ]
    },
    {
      "cell_type": "code",
      "metadata": {
        "id": "zvTFoaEzKzdh",
        "colab_type": "code",
        "colab": {
          "base_uri": "https://localhost:8080/",
          "height": 84
        },
        "outputId": "05f2e781-a4bb-4730-9976-0b1b5e1e3148"
      },
      "source": [
        "width = int(input('Введите ширину:'))\n",
        "length = int(input('Введите длину:'))\n",
        "height = int(input('Введите высоту:'))\n",
        "\n",
        "if width < 15 and length <15 and height <15:\n",
        "  print('Коробка №1')\n",
        "elif length > 200:\n",
        "  print('Упаковка для лыж')\n",
        "elif (15 <= width < 50) or (15 <= length < 50) or (15 <= height < 50):\n",
        "  print('Коробка №2')\n",
        "else:\n",
        "  print('Стандартная коробка №3')"
      ],
      "execution_count": 24,
      "outputs": [
        {
          "output_type": "stream",
          "text": [
            "Введите ширину:60\n",
            "Введите длину:60\n",
            "Введите высоту:60\n",
            "Стандартная коробка №3\n"
          ],
          "name": "stdout"
        }
      ]
    },
    {
      "cell_type": "markdown",
      "metadata": {
        "id": "m2J401oC1Loy",
        "colab_type": "text"
      },
      "source": [
        "## Задание 5 (необязательное)"
      ]
    },
    {
      "cell_type": "markdown",
      "metadata": {
        "id": "ktea1zjN1Lpo",
        "colab_type": "text"
      },
      "source": [
        "Дана переменная, в которой хранится шестизначное число (номер проездного билета). Напишите программу, которая будет определять, является ли данный билет \"счастливым\". Билет считается счастливым, если сумма первых трех цифр совпадает с суммой последних трех цифр номера.   \n",
        "\n",
        "Примеры работы программы:  \n",
        "1. ```number = 123456```\n",
        "\n",
        "Результат:  \n",
        "`Неасчастливый билет`\n",
        "2. ```number = 123321```\n",
        "\n",
        "Результат:  \n",
        "`Счастливый билет`\n"
      ]
    },
    {
      "cell_type": "code",
      "metadata": {
        "id": "YPGbWimu0HwK",
        "colab_type": "code",
        "colab": {
          "base_uri": "https://localhost:8080/",
          "height": 67
        },
        "outputId": "e0372d09-fe52-4b0a-b731-2be0753ece95"
      },
      "source": [
        "number = int(input('Введите номер билета:'))\n",
        "six=int(number%10)\n",
        "five=int((number%100-six)/10)\n",
        "four=int((number%1000-five)/100)\n",
        "three=int((number%10000-four)/1000)\n",
        "two=int((number%100000-three)/10000)\n",
        "one=int((number%1000000-two)/100000)\n",
        "if one+two+three == four+five+six:\n",
        "  print('Счастливый билет')\n",
        "else:\n",
        "  print('Несчастливый билет')\n",
        "print(one,two,three,four,five,six)"
      ],
      "execution_count": 33,
      "outputs": [
        {
          "output_type": "stream",
          "text": [
            "Введите номер билета:666666\n",
            "Счастливый билет\n",
            "6 6 6 6 6 6\n"
          ],
          "name": "stdout"
        }
      ]
    },
    {
      "cell_type": "code",
      "metadata": {
        "id": "weodDYqf6okK",
        "colab_type": "code",
        "colab": {
          "base_uri": "https://localhost:8080/",
          "height": 34
        },
        "outputId": "dd7897d2-7389-4672-c956-5c9b05944377"
      },
      "source": [
        "number = 321123\n",
        "int((number%100-3)/10)"
      ],
      "execution_count": 29,
      "outputs": [
        {
          "output_type": "execute_result",
          "data": {
            "text/plain": [
              "2"
            ]
          },
          "metadata": {
            "tags": []
          },
          "execution_count": 29
        }
      ]
    },
    {
      "cell_type": "markdown",
      "metadata": {
        "id": "1vu5UWPY1Lps",
        "colab_type": "text"
      },
      "source": [
        "## Задание 6 (необязательное)"
      ]
    },
    {
      "cell_type": "markdown",
      "metadata": {
        "id": "OefhWl7a1Lpv",
        "colab_type": "text"
      },
      "source": [
        "Напишите программу, которая сможет вычислять площади трех фигур (круг, треугольник и прямоугольник).\n",
        "Тип фигуры запрашиваем через пользовательский ввод, после чего делаем запрос характеристик фигуры:\n",
        "\n",
        "- если пользователь выбрал круг, запрашиваем его радиус,\n",
        "- если треугольник – длины трех его сторон;\n",
        "- если прямоугольник – длины двух его сторон.\n",
        "\n",
        "Пример работы программы:\n",
        "1.  \n",
        "\n",
        "```\n",
        "Введите тип фигуры:\n",
        "Круг\n",
        "\n",
        "Введите радиус круга:\n",
        "10\n",
        "```\n",
        "Результат:  \n",
        "`Площадь круга: 314.16`\n",
        "\n",
        "2.  \n",
        "\n",
        "```\n",
        "Введите тип фигуры:\n",
        "Треугольник\n",
        "\n",
        "Введите длину стороны A:\n",
        "2\n",
        "\n",
        "Введите длину стороны B:\n",
        "2\n",
        "\n",
        "Введите длину стороны C:\n",
        "3\n",
        "```\n",
        "Результат:  \n",
        "`Площадь треугольника: 1.98`"
      ]
    },
    {
      "cell_type": "markdown",
      "metadata": {
        "id": "P-QJACFX1Lpw",
        "colab_type": "text"
      },
      "source": [
        "#### ПРИМЕЧАНИЕ\n",
        "Домашнее задание сдается ссылкой на репозиторий [GitHub](https://github.com/).\n",
        "Не сможем проверить или помочь, если вы пришлете:\n",
        "- файлы;\n",
        "- архивы;\n",
        "- скриншоты кода.\n",
        "\n",
        "Все обсуждения и консультации по выполнению домашнего задания ведутся только на соответствующем канале в slack.\n",
        "\n",
        "##### Как правильно задавать вопросы аспирантам, преподавателям и коллегам\n",
        "Прежде чем задать вопрос, попробуйте найти ответ в интернете. Навык самостоятельного поиска информации — один из важнейших. Каждый практикующий специалист любого уровня делает это ежедневно.\n",
        "\n",
        "Сформулируйте вопрос по алгоритму:  \n",
        "1) Что я делаю?  \n",
        "2) Какого результата я ожидаю?  \n",
        "3) Как фактический результат отличается от ожидаемого?  \n",
        "4) Что я уже попробовал сделать, чтобы исправить проблему?  \n",
        "\n",
        "По возможности прикрепите к вопросу скриншоты либо ссылки на код. Не выкладывайте все решение, оставляйте только проблемный и воспроизводимый участок кода."
      ]
    }
  ]
}